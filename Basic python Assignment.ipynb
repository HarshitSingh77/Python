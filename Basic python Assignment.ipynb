{
 "cells": [
  {
   "cell_type": "code",
   "execution_count": 1,
   "id": "fd9d7475-f646-4d2a-bd83-ebba2bcf2fc6",
   "metadata": {},
   "outputs": [],
   "source": [
    "l = ['A','B','C','D','E']"
   ]
  },
  {
   "cell_type": "code",
   "execution_count": 2,
   "id": "eb463d57-5591-4b5e-b414-45d3e42b5576",
   "metadata": {},
   "outputs": [
    {
     "data": {
      "text/plain": [
       "['A', 'B', 'C', 'D', 'E']"
      ]
     },
     "execution_count": 2,
     "metadata": {},
     "output_type": "execute_result"
    }
   ],
   "source": [
    "l"
   ]
  },
  {
   "cell_type": "code",
   "execution_count": null,
   "id": "f5e7ece1-f282-4de8-926f-38a940ac8b0f",
   "metadata": {},
   "outputs": [],
   "source": [
    "#write data only from A to D"
   ]
  },
  {
   "cell_type": "code",
   "execution_count": 4,
   "id": "0672eb30-f23e-4d24-9f07-321146d15d95",
   "metadata": {},
   "outputs": [
    {
     "data": {
      "text/plain": [
       "['A', 'B', 'C', 'D']"
      ]
     },
     "execution_count": 4,
     "metadata": {},
     "output_type": "execute_result"
    }
   ],
   "source": [
    "l[0:4]"
   ]
  },
  {
   "cell_type": "code",
   "execution_count": 5,
   "id": "0d372c67-345f-4fb9-af47-57863008b50e",
   "metadata": {},
   "outputs": [],
   "source": [
    "#write data from C to E"
   ]
  },
  {
   "cell_type": "code",
   "execution_count": 7,
   "id": "a32531bb-14be-4c8f-b95b-badea47ffa61",
   "metadata": {},
   "outputs": [
    {
     "data": {
      "text/plain": [
       "['C', 'D', 'E']"
      ]
     },
     "execution_count": 7,
     "metadata": {},
     "output_type": "execute_result"
    }
   ],
   "source": [
    "l[2:]"
   ]
  },
  {
   "cell_type": "code",
   "execution_count": null,
   "id": "33a26e47-5871-494c-b45f-09bace038eee",
   "metadata": {},
   "outputs": [],
   "source": [
    "#write data A C E"
   ]
  },
  {
   "cell_type": "code",
   "execution_count": 8,
   "id": "6fb7d664-8e98-44e8-ae0b-19168c7c2e7b",
   "metadata": {},
   "outputs": [
    {
     "data": {
      "text/plain": [
       "['A', 'C', 'E']"
      ]
     },
     "execution_count": 8,
     "metadata": {},
     "output_type": "execute_result"
    }
   ],
   "source": [
    "l[::2]"
   ]
  },
  {
   "cell_type": "code",
   "execution_count": null,
   "id": "67baab74-639c-4e94-880d-66f14779cd90",
   "metadata": {},
   "outputs": [],
   "source": [
    "#write list l in reverse order"
   ]
  },
  {
   "cell_type": "code",
   "execution_count": 9,
   "id": "d170b246-a990-471d-9721-692c4cd2f14c",
   "metadata": {},
   "outputs": [
    {
     "data": {
      "text/plain": [
       "['E', 'D', 'C', 'B', 'A']"
      ]
     },
     "execution_count": 9,
     "metadata": {},
     "output_type": "execute_result"
    }
   ],
   "source": [
    "l[::-1]"
   ]
  },
  {
   "cell_type": "code",
   "execution_count": null,
   "id": "9c432044-0ced-4084-a6c1-e5b037919da2",
   "metadata": {},
   "outputs": [],
   "source": [
    "#write data from E to B"
   ]
  },
  {
   "cell_type": "code",
   "execution_count": 10,
   "id": "3dcff511-6fff-4ce8-b27f-a6b3b1bae05c",
   "metadata": {},
   "outputs": [
    {
     "data": {
      "text/plain": [
       "['E', 'D', 'C', 'B']"
      ]
     },
     "execution_count": 10,
     "metadata": {},
     "output_type": "execute_result"
    }
   ],
   "source": [
    "l[4:0:-1]"
   ]
  },
  {
   "cell_type": "code",
   "execution_count": null,
   "id": "b8971166-be80-4d89-85ec-2fe66177d8d9",
   "metadata": {},
   "outputs": [],
   "source": [
    "#write data from D to B"
   ]
  },
  {
   "cell_type": "code",
   "execution_count": 11,
   "id": "02586742-4f0f-4d7a-a477-5c8f0e52f778",
   "metadata": {},
   "outputs": [
    {
     "data": {
      "text/plain": [
       "['D', 'C', 'B']"
      ]
     },
     "execution_count": 11,
     "metadata": {},
     "output_type": "execute_result"
    }
   ],
   "source": [
    "l[3:0:-1]"
   ]
  },
  {
   "cell_type": "code",
   "execution_count": null,
   "id": "215e8f5b-bf93-4b06-8f8e-a48bd89cd129",
   "metadata": {},
   "outputs": [],
   "source": [
    "#General practice"
   ]
  },
  {
   "cell_type": "code",
   "execution_count": 12,
   "id": "84629889-e847-4bd6-92d9-b245cd98388c",
   "metadata": {},
   "outputs": [],
   "source": [
    "names = ['John','Paul',[100,200,300],'Taker','Orton']"
   ]
  },
  {
   "cell_type": "code",
   "execution_count": 13,
   "id": "680d31a0-c93a-4292-9425-b8d1548a6756",
   "metadata": {},
   "outputs": [
    {
     "data": {
      "text/plain": [
       "['John', 'Paul', [100, 200, 300], 'Taker', 'Orton']"
      ]
     },
     "execution_count": 13,
     "metadata": {},
     "output_type": "execute_result"
    }
   ],
   "source": [
    "names"
   ]
  },
  {
   "cell_type": "code",
   "execution_count": 14,
   "id": "5e178c93-b6e4-4869-ad3e-0775705777fc",
   "metadata": {},
   "outputs": [
    {
     "data": {
      "text/plain": [
       "200"
      ]
     },
     "execution_count": 14,
     "metadata": {},
     "output_type": "execute_result"
    }
   ],
   "source": [
    "names[2][1]"
   ]
  },
  {
   "cell_type": "code",
   "execution_count": 15,
   "id": "20fafa08-be65-4c10-8e89-faf2057acbea",
   "metadata": {},
   "outputs": [
    {
     "data": {
      "text/plain": [
       "[100, 200, 300]"
      ]
     },
     "execution_count": 15,
     "metadata": {},
     "output_type": "execute_result"
    }
   ],
   "source": [
    "names[2]"
   ]
  },
  {
   "cell_type": "code",
   "execution_count": 16,
   "id": "7e3213e2-b1a7-4f99-8d14-a38b4d86b008",
   "metadata": {},
   "outputs": [],
   "source": [
    "names.append('Cena')"
   ]
  },
  {
   "cell_type": "code",
   "execution_count": 17,
   "id": "dd23772b-133d-415e-95b8-229557da769c",
   "metadata": {},
   "outputs": [
    {
     "data": {
      "text/plain": [
       "['John', 'Paul', [100, 200, 300], 'Taker', 'Orton', 'Cena']"
      ]
     },
     "execution_count": 17,
     "metadata": {},
     "output_type": "execute_result"
    }
   ],
   "source": [
    "names"
   ]
  },
  {
   "cell_type": "code",
   "execution_count": 19,
   "id": "2550c914-2b4f-4b53-a5a0-aaba5c1dcfbd",
   "metadata": {},
   "outputs": [],
   "source": [
    "names.extend([1000,2000])"
   ]
  },
  {
   "cell_type": "code",
   "execution_count": 20,
   "id": "9b8f4607-9ecf-4763-b97a-407c319e82cd",
   "metadata": {},
   "outputs": [
    {
     "data": {
      "text/plain": [
       "['John', 'Paul', [100, 200, 300], 'Taker', 'Orton', 'Cena', 1000, 2000]"
      ]
     },
     "execution_count": 20,
     "metadata": {},
     "output_type": "execute_result"
    }
   ],
   "source": [
    "names"
   ]
  },
  {
   "cell_type": "code",
   "execution_count": 22,
   "id": "495fbf06-4c05-48d1-9eae-69eae6e349d1",
   "metadata": {},
   "outputs": [],
   "source": [
    "names.append([25,56])"
   ]
  },
  {
   "cell_type": "code",
   "execution_count": 23,
   "id": "18ab9241-fc8e-4f75-a5cb-41905e7d9c4e",
   "metadata": {},
   "outputs": [
    {
     "data": {
      "text/plain": [
       "['John',\n",
       " 'Paul',\n",
       " [100, 200, 300],\n",
       " 'Taker',\n",
       " 'Orton',\n",
       " 'Cena',\n",
       " 1000,\n",
       " 2000,\n",
       " [25, 56]]"
      ]
     },
     "execution_count": 23,
     "metadata": {},
     "output_type": "execute_result"
    }
   ],
   "source": [
    "names"
   ]
  },
  {
   "cell_type": "code",
   "execution_count": 25,
   "id": "3db0e800-d684-433f-a02f-bbff1975f919",
   "metadata": {},
   "outputs": [
    {
     "data": {
      "text/plain": [
       "[25, 56]"
      ]
     },
     "execution_count": 25,
     "metadata": {},
     "output_type": "execute_result"
    }
   ],
   "source": [
    "names[8]"
   ]
  }
 ],
 "metadata": {
  "kernelspec": {
   "display_name": "Python 3 (ipykernel)",
   "language": "python",
   "name": "python3"
  },
  "language_info": {
   "codemirror_mode": {
    "name": "ipython",
    "version": 3
   },
   "file_extension": ".py",
   "mimetype": "text/x-python",
   "name": "python",
   "nbconvert_exporter": "python",
   "pygments_lexer": "ipython3",
   "version": "3.13.0"
  }
 },
 "nbformat": 4,
 "nbformat_minor": 5
}
